{
 "cells": [
  {
   "cell_type": "markdown",
   "metadata": {},
   "source": [
    "## Install Relevant Packages"
   ]
  },
  {
   "cell_type": "code",
   "execution_count": 24,
   "metadata": {},
   "outputs": [],
   "source": [
    "from selenium import webdriver\n",
    "from selenium.webdriver.common.by import By\n",
    "from selenium.webdriver.support.ui import WebDriverWait\n",
    "from selenium.webdriver.support import expected_conditions as EC\n",
    "import csv\n",
    "import re\n",
    "import time\n",
    "import numpy as np"
   ]
  },
  {
   "cell_type": "markdown",
   "metadata": {},
   "source": [
    "## Setup Buttons to Access Page"
   ]
  },
  {
   "cell_type": "code",
   "execution_count": 32,
   "metadata": {},
   "outputs": [],
   "source": [
    "# Open chrome brower and go to state parent website\n",
    "driver = webdriver.Chrome()\n",
    "driver.get('https://www.payscale.com/college-roi')\n",
    "\n",
    "# Click review button to go to the review section\n",
    "oncampus_button = driver.find_element_by_xpath('//*[@id=\"roi-list-root\"]/div/div/div/div/button')\n",
    "oncampus_button.click()\n",
    "\n",
    "roi_type_button = driver.find_element_by_xpath('//div[@id=\"roi-list-root\"]/div/div/div[3]//button[1]')\n",
    "roi_type_button.click()\n",
    "\n",
    "load_more_button = driver.find_element_by_xpath('//*[@class=\"col-md-4 offset-md-2\"]')\n",
    "load_more_button.click()\n",
    "\n",
    "#Wait for entire ROI to load\n",
    "wait_colleges = WebDriverWait( driver, 10 )\n",
    "colleges = wait_colleges.until( EC.presence_of_all_elements_located((By.XPATH,\n",
    "                                    '//*[@class=\"table college-roi-table table-bordered table-striped table-condensed\"]/tbody/tr')) )"
   ]
  },
  {
   "cell_type": "markdown",
   "metadata": {},
   "source": [
    "## Scrap Extended Table"
   ]
  },
  {
   "cell_type": "code",
   "execution_count": 31,
   "metadata": {},
   "outputs": [],
   "source": []
  },
  {
   "cell_type": "code",
   "execution_count": 33,
   "metadata": {},
   "outputs": [
    {
     "name": "stdout",
     "output_type": "stream",
     "text": [
      "Massachusetts Institute of Technology\n",
      "Private\n",
      "\n",
      "249000\n",
      "93\n",
      "4\n",
      "==================================================\n",
      "Harvey Mudd College\n",
      "Private\n",
      "\n",
      "272000\n",
      "93\n",
      "4\n",
      "==================================================\n",
      "United States Merchant Marine Academy\n",
      "Service Academy\n",
      "\n",
      "34900\n",
      "76\n",
      "4\n",
      "==================================================\n",
      "United States Military Academy\n",
      "Service Academy\n",
      "\n",
      "0\n",
      "86\n",
      "4\n",
      "==================================================\n",
      "California Institute of Technology\n",
      "Private\n",
      "\n",
      "250000\n",
      "94\n",
      "4\n",
      "==================================================\n"
     ]
    }
   ],
   "source": [
    "#Prepare csv for storage of college information, per state\n",
    "csv_file = open('college_roi.csv', 'w', encoding='utf-8', newline='')\n",
    "writer = csv.writer(csv_file)\n",
    "\n",
    "#Setup headers for csv\n",
    "header_dict = {'college_name': 'college_name', 'college_type': 'college_type', \\\n",
    "               'roi_wo': 'roi_wo', 'roi_w': 'roi_w', 'total_cost': 'total_cost', 'grad_rate': 'grad_rate', \\\n",
    "               'yrs2grad': 'yrs2grad', 'loan_amt': 'loan_amt', 'perc_grant': 'perc_grant'}\n",
    "\n",
    "#Scrape info per row (ie. college)\n",
    "for college in colleges[:5]:\n",
    "\n",
    "    #Create dict for storage/export of data per college\n",
    "    college_dict = {}\n",
    "\n",
    "    #Define xpaths and scrape college information\n",
    "    college_name =  re.sub( r'[$,%]','', college.find_element_by_xpath('./td[2]//a').text )\n",
    "    college_type = re.sub( r'[()]','', college.find_element_by_xpath('./td[2]//span').text )\n",
    "    roi_wo = re.sub( r'[$,%]','', college.find_element_by_xpath('./td[7]/span').text ) #roi WITHOUT aid\n",
    "    roi_w = re.sub( r'[$,%]','', college.find_element_by_xpath('./td[9]/span').text ) #roi WITH aid\n",
    "    total_cost = re.sub( r'[$,%]','', college.find_element_by_xpath('./td[11]/span').text )\n",
    "    grad_rate = re.sub( r'[$,%]','', college.find_element_by_xpath('./td[13]/span').text )\n",
    "    yrs2grad = re.sub( r'[$,%]','', college.find_element_by_xpath('./td[14]/span').text )\n",
    "    loan_amt = re.sub( r'[$,%]','', college.find_element_by_xpath('./td[15]/span').text )\n",
    "    perc_grant = re.sub( r'[$,%]','', college.find_element_by_xpath('./td[16]/span').text )\n",
    "\n",
    "    #Store all info to dict\n",
    "    college_dict[ 'college_name' ] =  college_name\n",
    "    college_dict[ 'college_type' ] = college_type\n",
    "    college_dict[ 'roi_wo' ] = roi_wo\n",
    "    college_dict[ 'roi_w' ] = roi_w\n",
    "    college_dict[ 'total_cost' ] = total_cost\n",
    "    college_dict[ 'grad_rate' ] = grad_rate\n",
    "    college_dict[ 'yrs2grad' ] = yrs2grad\n",
    "    college_dict[ 'loan_amt' ] = loan_amt\n",
    "    college_dict[ 'perc_grant' ] = perc_grant\n",
    "\n",
    "    #Print college name to terminal just to keep track of where the scraping is at\n",
    "    print( college_dict[ 'college_name' ])\n",
    "    print( college_dict[ 'college_type' ])\n",
    "    print( college_dict[ 'roi_wo' ])\n",
    "    print( college_dict[ 'roi_w' ])\n",
    "    print( college_dict[ 'total_cost' ])\n",
    "    print( college_dict[ 'grad_rate' ])\n",
    "    print( college_dict[ 'yrs2grad' ])\n",
    "    print( college_dict[ 'loan_amt' ])\n",
    "    print( college_dict[ 'perc_grant' ])\n",
    "    print( '=' * 50 )\n",
    "\n",
    "    #Write single college dict to csv\n",
    "    writer.writerow(college_dict.values())\n",
    "\n",
    "\n",
    "driver.quit()"
   ]
  },
  {
   "cell_type": "code",
   "execution_count": 10,
   "metadata": {},
   "outputs": [],
   "source": [
    "driver.quit()"
   ]
  },
  {
   "cell_type": "code",
   "execution_count": null,
   "metadata": {},
   "outputs": [],
   "source": [
    "\n"
   ]
  },
  {
   "cell_type": "code",
   "execution_count": null,
   "metadata": {},
   "outputs": [],
   "source": []
  }
 ],
 "metadata": {
  "kernelspec": {
   "display_name": "Python 3",
   "language": "python",
   "name": "python3"
  },
  "language_info": {
   "codemirror_mode": {
    "name": "ipython",
    "version": 3
   },
   "file_extension": ".py",
   "mimetype": "text/x-python",
   "name": "python",
   "nbconvert_exporter": "python",
   "pygments_lexer": "ipython3",
   "version": "3.7.4"
  }
 },
 "nbformat": 4,
 "nbformat_minor": 2
}
