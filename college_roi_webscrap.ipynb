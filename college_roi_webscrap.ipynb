{
 "cells": [
  {
   "cell_type": "markdown",
   "metadata": {},
   "source": [
    "## Install Drivers"
   ]
  },
  {
   "cell_type": "code",
   "execution_count": 1,
   "metadata": {},
   "outputs": [],
   "source": [
    "from selenium import webdriver\n",
    "from selenium.webdriver.common.by import By\n",
    "from selenium.webdriver.support.ui import WebDriverWait\n",
    "from selenium.webdriver.support import expected_conditions as EC\n",
    "import csv\n",
    "import re\n",
    "import time"
   ]
  },
  {
   "cell_type": "markdown",
   "metadata": {},
   "source": [
    "## Generate URLs For Each State"
   ]
  },
  {
   "cell_type": "code",
   "execution_count": 7,
   "metadata": {},
   "outputs": [],
   "source": [
    "# Open chrome brower and go to state parent website\n",
    "driver = webdriver.Chrome()\n",
    "driver.get('https://www.payscale.com/college-salary-report/best-schools-by-state')\n",
    "\n",
    "# #Prepare csv for storage of college information, per state\n",
    "# csv_file = open('college_by_state.csv', 'w', encoding='utf-8', newline='')\n",
    "# writer = csv.writer(csv_file)\n",
    "\n",
    "# #Setup headers for csv\n",
    "# header_dict = {'state': 'state', 'college_name': 'college_name', 'early_pay': 'early_pay', 'mid_pay': 'mid_pay', 'per_stem': 'per_stem'}\n",
    "# writer.writerow(header_dict.values())\n",
    "\n",
    "#Must create list of states to generate state-specific urls\n",
    "base_url = 'https://www.payscale.com/college-salary-report/best-schools-by-state/bachelors/'\n",
    "\n",
    "#Isolate body containing all state info\n",
    "states = driver.find_elements_by_xpath('//*[@class=\"space-bottom\"]/div/div')\n",
    "\n",
    "state_urls = []\n",
    "for state in states:\n",
    "    #Isolate state name per state\n",
    "    name = state.find_element_by_xpath( './/div[@class=\"grid__item-header\"]' ).text\n",
    "    \n",
    "    #Generate URL from name and base_url\n",
    "    state_urls.append( base_url + re.sub( r'[^\\w\\s]','',name.lower() ).replace( \" \", \"-\" ))\n",
    "    \n",
    "\n",
    "driver.close()"
   ]
  },
  {
   "cell_type": "code",
   "execution_count": 8,
   "metadata": {},
   "outputs": [
    {
     "data": {
      "text/plain": [
       "['https://www.payscale.com/college-salary-report/best-schools-by-state/bachelors/alabama',\n",
       " 'https://www.payscale.com/college-salary-report/best-schools-by-state/bachelors/alaska',\n",
       " 'https://www.payscale.com/college-salary-report/best-schools-by-state/bachelors/arizona',\n",
       " 'https://www.payscale.com/college-salary-report/best-schools-by-state/bachelors/arkansas',\n",
       " 'https://www.payscale.com/college-salary-report/best-schools-by-state/bachelors/california',\n",
       " 'https://www.payscale.com/college-salary-report/best-schools-by-state/bachelors/colorado',\n",
       " 'https://www.payscale.com/college-salary-report/best-schools-by-state/bachelors/connecticut',\n",
       " 'https://www.payscale.com/college-salary-report/best-schools-by-state/bachelors/delaware',\n",
       " 'https://www.payscale.com/college-salary-report/best-schools-by-state/bachelors/florida',\n",
       " 'https://www.payscale.com/college-salary-report/best-schools-by-state/bachelors/georgia',\n",
       " 'https://www.payscale.com/college-salary-report/best-schools-by-state/bachelors/hawaii',\n",
       " 'https://www.payscale.com/college-salary-report/best-schools-by-state/bachelors/idaho',\n",
       " 'https://www.payscale.com/college-salary-report/best-schools-by-state/bachelors/illinois',\n",
       " 'https://www.payscale.com/college-salary-report/best-schools-by-state/bachelors/indiana',\n",
       " 'https://www.payscale.com/college-salary-report/best-schools-by-state/bachelors/iowa',\n",
       " 'https://www.payscale.com/college-salary-report/best-schools-by-state/bachelors/kansas',\n",
       " 'https://www.payscale.com/college-salary-report/best-schools-by-state/bachelors/kentucky',\n",
       " 'https://www.payscale.com/college-salary-report/best-schools-by-state/bachelors/louisiana',\n",
       " 'https://www.payscale.com/college-salary-report/best-schools-by-state/bachelors/maine',\n",
       " 'https://www.payscale.com/college-salary-report/best-schools-by-state/bachelors/maryland',\n",
       " 'https://www.payscale.com/college-salary-report/best-schools-by-state/bachelors/massachusetts',\n",
       " 'https://www.payscale.com/college-salary-report/best-schools-by-state/bachelors/michigan',\n",
       " 'https://www.payscale.com/college-salary-report/best-schools-by-state/bachelors/minnesota',\n",
       " 'https://www.payscale.com/college-salary-report/best-schools-by-state/bachelors/mississippi',\n",
       " 'https://www.payscale.com/college-salary-report/best-schools-by-state/bachelors/missouri',\n",
       " 'https://www.payscale.com/college-salary-report/best-schools-by-state/bachelors/montana',\n",
       " 'https://www.payscale.com/college-salary-report/best-schools-by-state/bachelors/nebraska',\n",
       " 'https://www.payscale.com/college-salary-report/best-schools-by-state/bachelors/nevada',\n",
       " 'https://www.payscale.com/college-salary-report/best-schools-by-state/bachelors/new-hampshire',\n",
       " 'https://www.payscale.com/college-salary-report/best-schools-by-state/bachelors/new-jersey',\n",
       " 'https://www.payscale.com/college-salary-report/best-schools-by-state/bachelors/new-mexico',\n",
       " 'https://www.payscale.com/college-salary-report/best-schools-by-state/bachelors/new-york',\n",
       " 'https://www.payscale.com/college-salary-report/best-schools-by-state/bachelors/north-carolina',\n",
       " 'https://www.payscale.com/college-salary-report/best-schools-by-state/bachelors/north-dakota',\n",
       " 'https://www.payscale.com/college-salary-report/best-schools-by-state/bachelors/ohio',\n",
       " 'https://www.payscale.com/college-salary-report/best-schools-by-state/bachelors/oklahoma',\n",
       " 'https://www.payscale.com/college-salary-report/best-schools-by-state/bachelors/oregon',\n",
       " 'https://www.payscale.com/college-salary-report/best-schools-by-state/bachelors/pennsylvania',\n",
       " 'https://www.payscale.com/college-salary-report/best-schools-by-state/bachelors/rhode-island',\n",
       " 'https://www.payscale.com/college-salary-report/best-schools-by-state/bachelors/south-carolina',\n",
       " 'https://www.payscale.com/college-salary-report/best-schools-by-state/bachelors/south-dakota',\n",
       " 'https://www.payscale.com/college-salary-report/best-schools-by-state/bachelors/tennessee',\n",
       " 'https://www.payscale.com/college-salary-report/best-schools-by-state/bachelors/texas',\n",
       " 'https://www.payscale.com/college-salary-report/best-schools-by-state/bachelors/utah',\n",
       " 'https://www.payscale.com/college-salary-report/best-schools-by-state/bachelors/vermont',\n",
       " 'https://www.payscale.com/college-salary-report/best-schools-by-state/bachelors/virginia',\n",
       " 'https://www.payscale.com/college-salary-report/best-schools-by-state/bachelors/washington',\n",
       " 'https://www.payscale.com/college-salary-report/best-schools-by-state/bachelors/washington-dc',\n",
       " 'https://www.payscale.com/college-salary-report/best-schools-by-state/bachelors/west-virginia',\n",
       " 'https://www.payscale.com/college-salary-report/best-schools-by-state/bachelors/wisconsin',\n",
       " 'https://www.payscale.com/college-salary-report/best-schools-by-state/bachelors/wyoming']"
      ]
     },
     "execution_count": 8,
     "metadata": {},
     "output_type": "execute_result"
    }
   ],
   "source": [
    "state_urls\n",
    "\n"
   ]
  },
  {
   "cell_type": "code",
   "execution_count": null,
   "metadata": {},
   "outputs": [],
   "source": []
  }
 ],
 "metadata": {
  "kernelspec": {
   "display_name": "Python 3",
   "language": "python",
   "name": "python3"
  },
  "language_info": {
   "codemirror_mode": {
    "name": "ipython",
    "version": 3
   },
   "file_extension": ".py",
   "mimetype": "text/x-python",
   "name": "python",
   "nbconvert_exporter": "python",
   "pygments_lexer": "ipython3",
   "version": "3.7.4"
  }
 },
 "nbformat": 4,
 "nbformat_minor": 2
}
