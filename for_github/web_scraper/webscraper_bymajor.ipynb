{
 "cells": [
  {
   "cell_type": "markdown",
   "metadata": {},
   "source": [
    "## Import Packages"
   ]
  },
  {
   "cell_type": "code",
   "execution_count": 7,
   "metadata": {},
   "outputs": [],
   "source": [
    "from selenium import webdriver\n",
    "from selenium.webdriver.common.by import By\n",
    "from selenium.webdriver.support.ui import WebDriverWait\n",
    "from selenium.webdriver.support import expected_conditions as EC\n",
    "import csv\n",
    "import re\n",
    "import time\n",
    "import numpy as np\n",
    "import pandas as pd "
   ]
  },
  {
   "cell_type": "markdown",
   "metadata": {},
   "source": [
    "## Get List of Major URLs"
   ]
  },
  {
   "cell_type": "code",
   "execution_count": 8,
   "metadata": {},
   "outputs": [],
   "source": [
    "# Open chrome brower and go to parent website containing all majors\n",
    "driver = webdriver.Chrome()\n",
    "driver.get('https://www.payscale.com/college-roi/major')\n",
    "\n",
    "#Isolate body containing all college major info\n",
    "majors = driver.find_elements_by_xpath('//*[@class=\"col-xs-12 col-sm-6\"]/p')\n",
    "\n",
    "#Generate nested list containing all college major names and specific urls\n",
    "major_urls = []\n",
    "for major in majors:\n",
    "    #Isolate major name and url\n",
    "    major_name = major.find_element_by_xpath( './/a' ).text.lower().replace('majors', '').strip()\n",
    "    major_url = major.find_element_by_xpath( './/a' ).get_attribute(\"href\")\n",
    "    \n",
    "    #Store items\n",
    "    major_urls.append([major_name, major_url])"
   ]
  },
  {
   "cell_type": "markdown",
   "metadata": {},
   "source": [
    "## Prep Repository DF For State ROI Input"
   ]
  },
  {
   "cell_type": "code",
   "execution_count": 9,
   "metadata": {},
   "outputs": [],
   "source": [
    "repo_df = pd.DataFrame({'major': [],\\\n",
    "                        'college_name':[],\\\n",
    "                        'college_type':[],\\\n",
    "                        'financial_aid':[],\\\n",
    "                        'roi':[],\\\n",
    "                        'total_cost':[]})"
   ]
  },
  {
   "cell_type": "markdown",
   "metadata": {},
   "source": [
    "## Scrape Each State"
   ]
  },
  {
   "cell_type": "code",
   "execution_count": 10,
   "metadata": {},
   "outputs": [
    {
     "name": "stdout",
     "output_type": "stream",
     "text": [
      "art: initiate\n",
      "art: complete\n",
      "========================= 686 =========================\n",
      "business: initiate\n",
      "business: complete\n",
      "========================= 2261 =========================\n",
      "computer science and math: initiate\n",
      "computer science and math: complete\n",
      "========================= 3170 =========================\n",
      "economics: initiate\n",
      "economics: complete\n",
      "========================= 3458 =========================\n",
      "education: initiate\n",
      "education: complete\n",
      "========================= 3812 =========================\n",
      "engineering: initiate\n",
      "engineering: complete\n",
      "========================= 4348 =========================\n",
      "humanities: initiate\n",
      "humanities: complete\n",
      "========================= 5099 =========================\n",
      "nursing: initiate\n",
      "nursing: complete\n",
      "========================= 5565 =========================\n",
      "philosophy and religious studies: initiate\n",
      "philosophy and religious studies: complete\n",
      "========================= 5595 =========================\n",
      "political science: initiate\n",
      "political science: complete\n",
      "========================= 5616 =========================\n",
      "psychology: initiate\n",
      "psychology: complete\n",
      "========================= 6254 =========================\n",
      "science: initiate\n",
      "science: complete\n",
      "========================= 6953 =========================\n",
      "social work & criminal justice: initiate\n",
      "social work & criminal justice: complete\n",
      "========================= 7337 =========================\n"
     ]
    }
   ],
   "source": [
    "counter = 0\n",
    "for url in major_urls: \n",
    "  \n",
    "    #Unpack major-specific list containing name and url\n",
    "    major_name, major_url = url\n",
    "    print(f\"{major_name}: initiate\")\n",
    "    \n",
    "    #Go to major-specific url\n",
    "    driver.get( major_url ) #enter state-specific url\n",
    "    \n",
    "    # Click review button to view complete dataset\n",
    "    oncampus_button = driver.find_element_by_xpath('//*[@id=\"roi-list-root\"]/div/div/div/div/button')\n",
    "    oncampus_button.click()\n",
    "\n",
    "    roi_type_button = driver.find_element_by_xpath('//div[@id=\"roi-list-root\"]/div/div/div[3]//button[1]')\n",
    "    roi_type_button.click()\n",
    "\n",
    "    load_more_button = driver.find_element_by_xpath('//*[@class=\"col-md-4 offset-md-2\"]')\n",
    "    load_more_button.click()\n",
    "    \n",
    "    financial_aid_button = driver.find_element_by_xpath('//*[@id=\"roi-list-root\"]/div/div/div[2]//button[2]')\n",
    "    financial_aid_button.click() \n",
    "    \n",
    "    #Wait for entire ROI table to load\n",
    "    wait_colleges = WebDriverWait( driver, 10 )\n",
    "    colleges = wait_colleges.until( EC.presence_of_all_elements_located((By.XPATH, \\\n",
    "                                '//*[@class=\"table college-roi-table table-bordered table-striped table-condensed\"]/tbody/tr')) )\n",
    "\n",
    "    #Scrape info per row (ie. college)\n",
    "    for college in colleges:\n",
    "\n",
    "        #Define additional xpaths and scrape college information\n",
    "        text = college.find_element_by_xpath('./td[2]//div').text #roughly extract text\n",
    "        college_name =  college.find_element_by_xpath('./td[2]//div').text #join college name\n",
    "        college_type = re.sub( r'[)$,%(-]','', college_name.lower().split(r'(')[-1]) #clean up college type\n",
    "        total_cost = re.sub( r'[)$,%(-]','', college.find_element_by_xpath('./td[11]/span').text ) \n",
    "        roi = re.sub( r'[$,%]','', college.find_element_by_xpath('./td[9]/span').text )\n",
    "\n",
    "\n",
    "        #Store all college data into dataframe\n",
    "        college_df = pd.DataFrame({'major': [major_name],\\\n",
    "                        'college_name':[college_name],\\\n",
    "                        'college_type':[college_type],\\\n",
    "                        'financial_aid': [True],\\\n",
    "                        'roi':[roi],\\\n",
    "                        'total_cost':[total_cost]})\n",
    "\n",
    "        #Add college_df to repository dataframe\n",
    "        repo_df = pd.concat([repo_df, college_df],ignore_index=True, axis=0)\n",
    "\n",
    "        #Keep track of number of colleges\n",
    "        counter += 1\n",
    "            \n",
    "    print(f\"{major_name}: complete\")\n",
    "    print('='*25,counter, '='*25)\n",
    "\n",
    "driver.close()"
   ]
  },
  {
   "cell_type": "markdown",
   "metadata": {},
   "source": [
    "## Export Repository DF As CSV"
   ]
  },
  {
   "cell_type": "code",
   "execution_count": 11,
   "metadata": {},
   "outputs": [],
   "source": [
    "repo_df.to_csv('college_roi_bymajor.csv', index=None, header=True)"
   ]
  }
 ],
 "metadata": {
  "kernelspec": {
   "display_name": "Python 3",
   "language": "python",
   "name": "python3"
  },
  "language_info": {
   "codemirror_mode": {
    "name": "ipython",
    "version": 3
   },
   "file_extension": ".py",
   "mimetype": "text/x-python",
   "name": "python",
   "nbconvert_exporter": "python",
   "pygments_lexer": "ipython3",
   "version": "3.7.4"
  }
 },
 "nbformat": 4,
 "nbformat_minor": 2
}
