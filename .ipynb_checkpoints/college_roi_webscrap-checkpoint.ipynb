{
 "cells": [
  {
   "cell_type": "markdown",
   "metadata": {},
   "source": [
    "## Install Drivers"
   ]
  },
  {
   "cell_type": "code",
   "execution_count": 1,
   "metadata": {},
   "outputs": [],
   "source": [
    "from selenium import webdriver\n",
    "from selenium.webdriver.common.by import By\n",
    "from selenium.webdriver.support.ui import WebDriverWait\n",
    "from selenium.webdriver.support import expected_conditions as EC\n",
    "import csv\n",
    "import re\n",
    "import time"
   ]
  },
  {
   "cell_type": "markdown",
   "metadata": {},
   "source": [
    "## Generate URLs For Each State"
   ]
  },
  {
   "cell_type": "code",
   "execution_count": 6,
   "metadata": {},
   "outputs": [
    {
     "name": "stdout",
     "output_type": "stream",
     "text": [
      "Alabama\n",
      "====================\n",
      "Alaska\n",
      "====================\n",
      "Arizona\n",
      "====================\n",
      "Arkansas\n",
      "====================\n",
      "California\n",
      "====================\n",
      "Colorado\n",
      "====================\n",
      "Connecticut\n",
      "====================\n",
      "Delaware\n",
      "====================\n",
      "Florida\n",
      "====================\n",
      "Georgia\n",
      "====================\n",
      "Hawaii\n",
      "====================\n",
      "Idaho\n",
      "====================\n",
      "Illinois\n",
      "====================\n",
      "Indiana\n",
      "====================\n",
      "Iowa\n",
      "====================\n",
      "Kansas\n",
      "====================\n",
      "Kentucky\n",
      "====================\n",
      "Louisiana\n",
      "====================\n",
      "Maine\n",
      "====================\n",
      "Maryland\n",
      "====================\n",
      "Massachusetts\n",
      "====================\n",
      "Michigan\n",
      "====================\n",
      "Minnesota\n",
      "====================\n",
      "Mississippi\n",
      "====================\n",
      "Missouri\n",
      "====================\n",
      "Montana\n",
      "====================\n",
      "Nebraska\n",
      "====================\n",
      "Nevada\n",
      "====================\n",
      "New Hampshire\n",
      "====================\n",
      "New Jersey\n",
      "====================\n",
      "New Mexico\n",
      "====================\n",
      "New York\n",
      "====================\n",
      "North Carolina\n",
      "====================\n",
      "North Dakota\n",
      "====================\n",
      "Ohio\n",
      "====================\n",
      "Oklahoma\n",
      "====================\n",
      "Oregon\n",
      "====================\n",
      "Pennsylvania\n",
      "====================\n",
      "Rhode Island\n",
      "====================\n",
      "South Carolina\n",
      "====================\n",
      "South Dakota\n",
      "====================\n",
      "Tennessee\n",
      "====================\n",
      "Texas\n",
      "====================\n",
      "Utah\n",
      "====================\n",
      "Vermont\n",
      "====================\n",
      "Virginia\n",
      "====================\n",
      "Washington\n",
      "====================\n",
      "Washington, D.C.\n",
      "====================\n",
      "West Virginia\n",
      "====================\n",
      "Wisconsin\n",
      "====================\n",
      "Wyoming\n",
      "====================\n"
     ]
    }
   ],
   "source": [
    "# Open chrome brower and go to state parent website\n",
    "driver = webdriver.Chrome()\n",
    "driver.get('https://www.payscale.com/college-salary-report/best-schools-by-state')\n",
    "\n",
    "# #Prepare csv for storage of college information, per state\n",
    "# csv_file = open('college_by_state.csv', 'w', encoding='utf-8', newline='')\n",
    "# writer = csv.writer(csv_file)\n",
    "\n",
    "# #Setup headers for csv\n",
    "# header_dict = {'state': 'state', 'college_name': 'college_name', 'early_pay': 'early_pay', 'mid_pay': 'mid_pay', 'per_stem': 'per_stem'}\n",
    "# writer.writerow(header_dict.values())\n",
    "\n",
    "#Must create list of states to generate state-specific urls\n",
    "base_url = 'https://www.payscale.com/college-salary-report/best-schools-by-state/bachelors/'\n",
    "\n",
    "#Isolate body containing all state info\n",
    "states = driver.find_elements_by_xpath('//*[@class=\"space-bottom\"]/div/div')\n",
    "\n",
    "state_urls = []\n",
    "for state in states:\n",
    "    #Isolate state name per state\n",
    "    name = state.find_element_by_xpath( './/div[@class=\"grid__item-header\"]' ).text\n",
    "    \n",
    "    #Generate URL from name and base_url\n",
    "    state_urls.append( base_url + re.sub( r'[^\\w\\s]','',name.lower() ).replace( \" \", \"-\" ))\n",
    "    \n",
    "\n",
    "driver.close()"
   ]
  },
  {
   "cell_type": "code",
   "execution_count": 4,
   "metadata": {},
   "outputs": [
    {
     "data": {
      "text/plain": [
       "'stringtest'"
      ]
     },
     "execution_count": 4,
     "metadata": {},
     "output_type": "execute_result"
    }
   ],
   "source": [
    "a = 'string'\n",
    "b = 'test'\n",
    "\n"
   ]
  },
  {
   "cell_type": "code",
   "execution_count": null,
   "metadata": {},
   "outputs": [],
   "source": []
  }
 ],
 "metadata": {
  "kernelspec": {
   "display_name": "Python 3",
   "language": "python",
   "name": "python3"
  },
  "language_info": {
   "codemirror_mode": {
    "name": "ipython",
    "version": 3
   },
   "file_extension": ".py",
   "mimetype": "text/x-python",
   "name": "python",
   "nbconvert_exporter": "python",
   "pygments_lexer": "ipython3",
   "version": "3.7.4"
  }
 },
 "nbformat": 4,
 "nbformat_minor": 2
}
